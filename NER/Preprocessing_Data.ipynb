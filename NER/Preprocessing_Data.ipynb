{
 "cells": [
  {
   "cell_type": "code",
   "execution_count": 14,
   "metadata": {},
   "outputs": [],
   "source": [
    "import io\n",
    "import numpy as np\n",
    "import pandas as pd"
   ]
  },
  {
   "cell_type": "code",
   "execution_count": null,
   "metadata": {},
   "outputs": [],
   "source": [
    "\n",
    "filename = \"Data/gmb/gmb_subset_full.txt\"\n",
    "file = io.open(filename,encoding=\"utf8\")\n",
    "rows = []\n",
    "for line in file:\n",
    "    rows.append(line.rstrip('\\n').split(' '))"
   ]
  },
  {
   "cell_type": "code",
   "execution_count": 2,
   "metadata": {},
   "outputs": [],
   "source": [
    "sentences = []\n",
    "labels = []\n",
    "\n",
    "tmp_sentence = []\n",
    "tmp_label = []\n",
    "\n",
    "for row in rows:   \n",
    "    if len(row) > 1:\n",
    "        tmp_sentence.append(row[0])\n",
    "        tmp_label.append(row[2])\n",
    "        \n",
    "    else:\n",
    "        sentences.append(tmp_sentence)\n",
    "        labels.append(tmp_label)\n",
    "        tmp_sentence = []\n",
    "        tmp_label = []"
   ]
  },
  {
   "cell_type": "code",
   "execution_count": 3,
   "metadata": {},
   "outputs": [
    {
     "name": "stdout",
     "output_type": "stream",
     "text": [
      "57451\n",
      "57451\n"
     ]
    }
   ],
   "source": [
    "print(len(sentences))\n",
    "print(len(labels))"
   ]
  },
  {
   "cell_type": "code",
   "execution_count": 4,
   "metadata": {},
   "outputs": [
    {
     "name": "stdout",
     "output_type": "stream",
     "text": [
      "['A', 'coalition', 'statement', 'said', 'the', 'fight', 'happened', 'Wednesday', 'in', 'the', 'Sangin', 'district', 'of', 'Helmand', 'province', '.']\n",
      "['O', 'O', 'O', 'O', 'O', 'O', 'O', 'B-TIM', 'O', 'O', 'B-GEO', 'O', 'O', 'B-GEO', 'O', 'O']\n"
     ]
    }
   ],
   "source": [
    "print(sentences[56])\n",
    "print(labels[56])"
   ]
  },
  {
   "cell_type": "code",
   "execution_count": 5,
   "metadata": {},
   "outputs": [],
   "source": [
    "tokenizer_sentences = {\"<OOV>\" : 0}\n",
    "tokenizer_labels = {\"<OOV>\" : 0}\n",
    "\n",
    "counter = 1\n",
    "for sentence in sentences:\n",
    "    for word in sentence:\n",
    "        if word in [\"[\", \"]\", \"\\\\\", \"\\n\", \"^\", \"\\t\", \",\", \"-\", \".\"]:\n",
    "            continue\n",
    "            \n",
    "        if word not in tokenizer_sentences:\n",
    "            tokenizer_sentences[word] = counter\n",
    "            counter += 1\n",
    "            \n",
    "counter = 0\n",
    "for sentence in labels:\n",
    "    for label in sentence:\n",
    "        if label in [\"[\", \"]\", \"\\\\\", \"\\n\", \"^\", \"\\t\", \",\", \"-\"]:\n",
    "            continue\n",
    "            \n",
    "        if label not in tokenizer_labels:\n",
    "            tokenizer_labels[label] = counter\n",
    "            counter += 1"
   ]
  },
  {
   "cell_type": "code",
   "execution_count": 6,
   "metadata": {},
   "outputs": [
    {
     "name": "stdout",
     "output_type": "stream",
     "text": [
      "36594\n",
      "18\n"
     ]
    }
   ],
   "source": [
    "print(len(tokenizer_sentences))\n",
    "print(len(tokenizer_labels))"
   ]
  },
  {
   "cell_type": "code",
   "execution_count": 11,
   "metadata": {},
   "outputs": [],
   "source": [
    "tok_sentences = []\n",
    "tok_labels = []\n",
    "max_len = 50\n",
    "\n",
    "for sentence, sentence_labels in zip(sentences, labels):\n",
    "    tmp_tok_sentence = []\n",
    "    tmp_tok_labels = []\n",
    "    for word, label in zip(sentence, sentence_labels):\n",
    "        if word in tokenizer_sentences:\n",
    "            tmp_tok_sentence.append(tokenizer_sentences[word])\n",
    "            tmp_tok_labels.append(tokenizer_labels[label])\n",
    "         \n",
    "    tmp_tok_sentence = tmp_tok_sentence[:max_len]\n",
    "    tmp_tok_labels = tmp_tok_labels[:max_len]\n",
    "    \n",
    "    tmp_tok_sentence += [0] * (max_len - len(tmp_tok_sentence))\n",
    "    tmp_tok_labels += [0] * (max_len - len(tmp_tok_labels))\n",
    "    \n",
    "    tok_sentences.append(tmp_tok_sentence)\n",
    "    tok_labels.append(tmp_tok_labels)"
   ]
  },
  {
   "cell_type": "code",
   "execution_count": 8,
   "metadata": {},
   "outputs": [],
   "source": [
    "token2word = {tokenizer_sentences[i] : i for i in tokenizer_sentences}"
   ]
  },
  {
   "cell_type": "code",
   "execution_count": 13,
   "metadata": {},
   "outputs": [
    {
     "name": "stdout",
     "output_type": "stream",
     "text": [
      "['Soldiers', 'cut', 'off', 'the', 'roads', 'leading', 'to', 'the', 'village', 'as', 'they', 'searched', 'for', 'the', 'gunmen', '<OOV>', '<OOV>', '<OOV>', '<OOV>', '<OOV>', '<OOV>', '<OOV>', '<OOV>', '<OOV>', '<OOV>', '<OOV>', '<OOV>', '<OOV>', '<OOV>', '<OOV>', '<OOV>', '<OOV>', '<OOV>', '<OOV>', '<OOV>', '<OOV>', '<OOV>', '<OOV>', '<OOV>', '<OOV>', '<OOV>', '<OOV>', '<OOV>', '<OOV>', '<OOV>', '<OOV>', '<OOV>', '<OOV>', '<OOV>', '<OOV>']\n"
     ]
    }
   ],
   "source": [
    "print([token2word[word] for word in tok_sentences[3]]) "
   ]
  },
  {
   "cell_type": "code",
   "execution_count": 19,
   "metadata": {},
   "outputs": [
    {
     "name": "stdout",
     "output_type": "stream",
     "text": [
      "(57451, 50)\n",
      "(57451, 50)\n"
     ]
    }
   ],
   "source": [
    "tok_sentences = np.array(tok_sentences)\n",
    "tok_labels = np.array(tok_labels)\n",
    "pd.DataFrame(tok_sentences).to_csv(\"tokenized_sentences.csv\",header = False, index = False)\n",
    "pd.DataFrame(tok_labels).to_csv(\"tokenized_labels.csv\",header = False, index = False)\n",
    "print(tok_sentences.shape)\n",
    "print(tok_labels.shape)"
   ]
  }
 ],
 "metadata": {
  "kernelspec": {
   "display_name": "Python 3",
   "language": "python",
   "name": "python3"
  },
  "language_info": {
   "codemirror_mode": {
    "name": "ipython",
    "version": 3
   },
   "file_extension": ".py",
   "mimetype": "text/x-python",
   "name": "python",
   "nbconvert_exporter": "python",
   "pygments_lexer": "ipython3",
   "version": "3.6.12"
  }
 },
 "nbformat": 4,
 "nbformat_minor": 4
}
